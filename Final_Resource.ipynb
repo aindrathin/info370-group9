{
 "cells": [
  {
   "cell_type": "markdown",
   "metadata": {},
   "source": [
    "# Date-a Science\n",
    "_Aindra Thin, Iain Bromley, Shiyue (Sybil) Wang, Yash Vig_\n",
    "\n",
    "The purpose of our research project is to explore the specific attributes and characteristics which shape people’s decisions in their selecting their romantic partners. This study fits into the broader scope of psychological research which tests predefined notions of interpersonal relationships and their realistic outcomes.\n",
    "\n",
    "**We aim to answer the following questions:**\n",
    "- How much does race play a factor in the selection of potential partners? \n",
    "- How important are shared interests important in terms of relationship compatibility? \n",
    "- What are factors that affect the likelihood of going on a second date?\n",
    "- Difference in male and female partner selection"
   ]
  },
  {
   "cell_type": "code",
   "execution_count": 2,
   "metadata": {
    "collapsed": true
   },
   "outputs": [],
   "source": [
    "import pandas as pd\n",
    "import numpy as np\n",
    "import matplotlib.pyplot as plt\n",
    "import seaborn as sns\n",
    "from math import pi"
   ]
  },
  {
   "cell_type": "code",
   "execution_count": 3,
   "metadata": {
    "collapsed": true
   },
   "outputs": [],
   "source": [
    "all_data = pd.read_csv('data/data.csv')"
   ]
  },
  {
   "cell_type": "markdown",
   "metadata": {},
   "source": [
    "## Data Prep\n",
    "> The dataset that we acquired contained 195 columns. Much of this data does not help us answer our research questions, so we have filtered them out. We decided not to add any extra columns, because there was so much data available for us to explore our research questions."
   ]
  },
  {
   "cell_type": "code",
   "execution_count": 4,
   "metadata": {
    "collapsed": true
   },
   "outputs": [],
   "source": [
    "data = all_data[['iid', 'pid', 'gender', 'order', 'age', 'age_o', 'imprace', 'samerace', 'attr', 'sinc', 'intel', \\\n",
    "                 'fun', 'amb', 'shar', 'attr_o', 'sinc_o', 'intel_o', 'fun_o', 'amb_o', 'shar_o',  'int_corr', \\\n",
    "                 'dec', 'dec_o', 'match', 'attr1_1', 'sinc1_1', 'intel1_1', 'fun1_1', 'amb1_1', 'shar1_1', \\\n",
    "                 'attr2_1', 'sinc2_1', 'intel2_1', 'fun2_1', 'amb2_1', 'shar2_1']]"
   ]
  },
  {
   "cell_type": "code",
   "execution_count": 5,
   "metadata": {},
   "outputs": [
    {
     "data": {
      "text/html": [
       "<div>\n",
       "<style>\n",
       "    .dataframe thead tr:only-child th {\n",
       "        text-align: right;\n",
       "    }\n",
       "\n",
       "    .dataframe thead th {\n",
       "        text-align: left;\n",
       "    }\n",
       "\n",
       "    .dataframe tbody tr th {\n",
       "        vertical-align: top;\n",
       "    }\n",
       "</style>\n",
       "<table border=\"1\" class=\"dataframe\">\n",
       "  <thead>\n",
       "    <tr style=\"text-align: right;\">\n",
       "      <th></th>\n",
       "      <th>iid</th>\n",
       "      <th>pid</th>\n",
       "      <th>gender</th>\n",
       "      <th>order</th>\n",
       "      <th>age</th>\n",
       "      <th>age_o</th>\n",
       "      <th>imprace</th>\n",
       "      <th>samerace</th>\n",
       "      <th>attr</th>\n",
       "      <th>sinc</th>\n",
       "      <th>...</th>\n",
       "      <th>intel1_1</th>\n",
       "      <th>fun1_1</th>\n",
       "      <th>amb1_1</th>\n",
       "      <th>shar1_1</th>\n",
       "      <th>attr2_1</th>\n",
       "      <th>sinc2_1</th>\n",
       "      <th>intel2_1</th>\n",
       "      <th>fun2_1</th>\n",
       "      <th>amb2_1</th>\n",
       "      <th>shar2_1</th>\n",
       "    </tr>\n",
       "  </thead>\n",
       "  <tbody>\n",
       "    <tr>\n",
       "      <th>0</th>\n",
       "      <td>1</td>\n",
       "      <td>11.0</td>\n",
       "      <td>0</td>\n",
       "      <td>4</td>\n",
       "      <td>21.0</td>\n",
       "      <td>27.0</td>\n",
       "      <td>2.0</td>\n",
       "      <td>0</td>\n",
       "      <td>6.0</td>\n",
       "      <td>9.0</td>\n",
       "      <td>...</td>\n",
       "      <td>20.0</td>\n",
       "      <td>15.0</td>\n",
       "      <td>15.0</td>\n",
       "      <td>15.0</td>\n",
       "      <td>35.0</td>\n",
       "      <td>20.0</td>\n",
       "      <td>15.0</td>\n",
       "      <td>20.0</td>\n",
       "      <td>5.0</td>\n",
       "      <td>5.0</td>\n",
       "    </tr>\n",
       "    <tr>\n",
       "      <th>1</th>\n",
       "      <td>1</td>\n",
       "      <td>12.0</td>\n",
       "      <td>0</td>\n",
       "      <td>3</td>\n",
       "      <td>21.0</td>\n",
       "      <td>22.0</td>\n",
       "      <td>2.0</td>\n",
       "      <td>0</td>\n",
       "      <td>7.0</td>\n",
       "      <td>8.0</td>\n",
       "      <td>...</td>\n",
       "      <td>20.0</td>\n",
       "      <td>15.0</td>\n",
       "      <td>15.0</td>\n",
       "      <td>15.0</td>\n",
       "      <td>35.0</td>\n",
       "      <td>20.0</td>\n",
       "      <td>15.0</td>\n",
       "      <td>20.0</td>\n",
       "      <td>5.0</td>\n",
       "      <td>5.0</td>\n",
       "    </tr>\n",
       "    <tr>\n",
       "      <th>2</th>\n",
       "      <td>1</td>\n",
       "      <td>13.0</td>\n",
       "      <td>0</td>\n",
       "      <td>10</td>\n",
       "      <td>21.0</td>\n",
       "      <td>22.0</td>\n",
       "      <td>2.0</td>\n",
       "      <td>1</td>\n",
       "      <td>5.0</td>\n",
       "      <td>8.0</td>\n",
       "      <td>...</td>\n",
       "      <td>20.0</td>\n",
       "      <td>15.0</td>\n",
       "      <td>15.0</td>\n",
       "      <td>15.0</td>\n",
       "      <td>35.0</td>\n",
       "      <td>20.0</td>\n",
       "      <td>15.0</td>\n",
       "      <td>20.0</td>\n",
       "      <td>5.0</td>\n",
       "      <td>5.0</td>\n",
       "    </tr>\n",
       "    <tr>\n",
       "      <th>3</th>\n",
       "      <td>1</td>\n",
       "      <td>14.0</td>\n",
       "      <td>0</td>\n",
       "      <td>5</td>\n",
       "      <td>21.0</td>\n",
       "      <td>23.0</td>\n",
       "      <td>2.0</td>\n",
       "      <td>0</td>\n",
       "      <td>7.0</td>\n",
       "      <td>6.0</td>\n",
       "      <td>...</td>\n",
       "      <td>20.0</td>\n",
       "      <td>15.0</td>\n",
       "      <td>15.0</td>\n",
       "      <td>15.0</td>\n",
       "      <td>35.0</td>\n",
       "      <td>20.0</td>\n",
       "      <td>15.0</td>\n",
       "      <td>20.0</td>\n",
       "      <td>5.0</td>\n",
       "      <td>5.0</td>\n",
       "    </tr>\n",
       "    <tr>\n",
       "      <th>4</th>\n",
       "      <td>1</td>\n",
       "      <td>15.0</td>\n",
       "      <td>0</td>\n",
       "      <td>7</td>\n",
       "      <td>21.0</td>\n",
       "      <td>24.0</td>\n",
       "      <td>2.0</td>\n",
       "      <td>0</td>\n",
       "      <td>5.0</td>\n",
       "      <td>6.0</td>\n",
       "      <td>...</td>\n",
       "      <td>20.0</td>\n",
       "      <td>15.0</td>\n",
       "      <td>15.0</td>\n",
       "      <td>15.0</td>\n",
       "      <td>35.0</td>\n",
       "      <td>20.0</td>\n",
       "      <td>15.0</td>\n",
       "      <td>20.0</td>\n",
       "      <td>5.0</td>\n",
       "      <td>5.0</td>\n",
       "    </tr>\n",
       "  </tbody>\n",
       "</table>\n",
       "<p>5 rows × 36 columns</p>\n",
       "</div>"
      ],
      "text/plain": [
       "   iid   pid  gender  order   age  age_o  imprace  samerace  attr  sinc  \\\n",
       "0    1  11.0       0      4  21.0   27.0      2.0         0   6.0   9.0   \n",
       "1    1  12.0       0      3  21.0   22.0      2.0         0   7.0   8.0   \n",
       "2    1  13.0       0     10  21.0   22.0      2.0         1   5.0   8.0   \n",
       "3    1  14.0       0      5  21.0   23.0      2.0         0   7.0   6.0   \n",
       "4    1  15.0       0      7  21.0   24.0      2.0         0   5.0   6.0   \n",
       "\n",
       "    ...     intel1_1  fun1_1  amb1_1  shar1_1  attr2_1  sinc2_1  intel2_1  \\\n",
       "0   ...         20.0    15.0    15.0     15.0     35.0     20.0      15.0   \n",
       "1   ...         20.0    15.0    15.0     15.0     35.0     20.0      15.0   \n",
       "2   ...         20.0    15.0    15.0     15.0     35.0     20.0      15.0   \n",
       "3   ...         20.0    15.0    15.0     15.0     35.0     20.0      15.0   \n",
       "4   ...         20.0    15.0    15.0     15.0     35.0     20.0      15.0   \n",
       "\n",
       "   fun2_1  amb2_1  shar2_1  \n",
       "0    20.0     5.0      5.0  \n",
       "1    20.0     5.0      5.0  \n",
       "2    20.0     5.0      5.0  \n",
       "3    20.0     5.0      5.0  \n",
       "4    20.0     5.0      5.0  \n",
       "\n",
       "[5 rows x 36 columns]"
      ]
     },
     "execution_count": 5,
     "metadata": {},
     "output_type": "execute_result"
    }
   ],
   "source": [
    "data.head()"
   ]
  },
  {
   "cell_type": "markdown",
   "metadata": {},
   "source": [
    "## Exploratory Data Analysis\n",
    "> The first section of your report will provide a detailed overview of the dataset. Using both written and visual approaches, this section will introduce the data to the reader in the context of the research questions. Be sure to provide in depth analyses of the distributions of key variables of interest. More than anything, this section should convey a nuanced understanding of the dataset being used."
   ]
  },
  {
   "cell_type": "markdown",
   "metadata": {
    "collapsed": true
   },
   "source": [
    "### Overview\n",
    "> Our data is formatted as _paired data_. Each row represent's one participants's experience in one round of a speed dating, where we have the following information: \n",
    "- **iid**: the participants's unique ID number\n",
    "- **pid**: the unique ID number of their partner during that round.  \n",
    "- **imprace**: how important is it to date a partner of the same race? (scale of 1-10)\n",
    "- **samerace**: participant and partner were the same race (0=no, 1=yes)\n",
    "- **dec**: the participant's decision to see partner again (0=no, 1=yes)\n",
    "- **dec_o**: partner's decision to see participant again (0=no, 1=yes)\n",
    "- **match**: both partners decided to see each other again (0=no, 1=yes)\n",
    "\n",
    "> There are many columns that are repeated throughout the dataset, which represent different attributes of participants:\n",
    "- Attractiveness \"attr\"\n",
    "- Sincerity \"sinc\"\n",
    "- Intelligence \"intel\"\n",
    "- Funny \"fun\"\n",
    "- Ambition \"amb\"\n",
    "- Shared Interests \"shar\"\n",
    "\n",
    "> Suffixes are added to each attribute which mean the following:  \n",
    "> (Formatted so that _attribute_ is the shortened name of the attribute)\n",
    "- **_attribute_** : the participant's rating of their partner (scale of 1-10)\n",
    "- **_attribute_\\_o**: the partner's rating of this person (scale of 1-10)\n",
    "- **_attribute_\\_1_1**: what participant looks for in a partner (given 100 points to distribute among all 6 attributes)\n",
    "- **_attribute_\\_2_1**: what the participant thinks the opposite sex looks for in a partner (given 100 points to distribute among all 6 attributes)"
   ]
  },
  {
   "cell_type": "code",
   "execution_count": 6,
   "metadata": {
    "collapsed": true
   },
   "outputs": [],
   "source": [
    "by_person = data[[\"iid\", \"dec\", \"match\"]].groupby(\"iid\").aggregate(\"sum\")\n",
    "\n",
    "success_rate = []\n",
    "for i, row in by_person.iterrows():\n",
    "    if row['dec'] == 0.0:\n",
    "        success_rate.append(0)\n",
    "    else:\n",
    "        success_rate.append(row['match'] / row['dec'])\n",
    "by_person.insert(1, 'success_rate', success_rate)"
   ]
  },
  {
   "cell_type": "markdown",
   "metadata": {},
   "source": []
  },
  {
   "cell_type": "markdown",
   "metadata": {},
   "source": [
    "## Success Rate\n",
    "This histogram shows the success rate of speed dating. This is measured by two variables: **dec** and **match**\n",
    "Out of the number of partners that a participant chooses to see again, what ratio of them share a mutual interest?"
   ]
  },
  {
   "cell_type": "code",
   "execution_count": 10,
   "metadata": {},
   "outputs": [
    {
     "data": {
      "text/plain": [
       "Text(0,0.5,'Frequency')"
      ]
     },
     "execution_count": 10,
     "metadata": {},
     "output_type": "execute_result"
    }
   ],
   "source": [
    "plt.hist(success_rate)\n",
    "plt.title(\"Success Rate\")\n",
    "plt.xlabel(\"Success Rate\")\n",
    "plt.ylabel(\"Frequency\")"
   ]
  },
  {
   "cell_type": "markdown",
   "metadata": {
    "collapsed": true
   },
   "source": [
    "## Importance of Different Attributes\n",
    ">These paired box plots show how important each attribute is in finding a romantic partner.\n",
    "Green represents ratings where participants indicated that they would go on a second date with their partner,\n",
    "where yellow represents ratings where they would not.\n",
    "For every attribute except for **ambition**, the 'yes' to second date responses had higher ratings.\n",
    "\n",
    ">Out of all of these attributes, this would indicate that **ambition** is the least important in finding a partner."
   ]
  },
  {
   "cell_type": "code",
   "execution_count": 11,
   "metadata": {},
   "outputs": [
    {
     "data": {
      "image/png": "[encoded data removed]",
      "text/plain": [
       "<matplotlib.figure.Figure at 0x111594b00>"
      ]
     },
     "metadata": {},
     "output_type": "display_data"
    }
   ],
   "source": [
    "data_select = data[['attr', 'sinc', 'intel', 'fun', 'amb', 'shar', 'dec']]\n",
    "data_select.columns = [\"Attractiveness\", \"Sincerity\", \"Intelligence\", \"Funny\", \"Ambition\", \"Shared Interests\", \"Decision\"]\n",
    "shaped = pd.melt(data_select, id_vars=['Decision'], value_name='score')\n",
    "shaped['Decision'] = shaped['Decision'].map({1: 'yes', 0: 'no'})\n",
    "sns.set(style=\"whitegrid\")\n",
    "ax = sns.boxplot(x=\"variable\", y=\"score\", hue=\"Decision\",\n",
    "                data=shaped, palette=\"Set3\")\n",
    "ax.set_title('Decisions based on Attributes')\n",
    "ax.set_ylabel('Rating')\n",
    "ax.set_xlabel('Attributes')\n",
    "plt.legend(loc='upper right')\n",
    "plt.show()"
   ]
  },
  {
   "cell_type": "code",
   "execution_count": 9,
   "metadata": {},
   "outputs": [
    {
     "data": {
      "image/png": "[encoded data removed]",
      "text/plain": [
       "<matplotlib.figure.Figure at 0x11159d5f8>"
      ]
     },
     "metadata": {},
     "output_type": "display_data"
    }
   ],
   "source": [
    "#Shared interest vs. match\n",
    "share_int = data[['int_corr','match']] \n",
    "\n",
    "plt.title(\"Shared Interest vs. Match\")\n",
    "plt.xlabel(\"Interest Correlation\")\n",
    "plt.ylabel(\"Matching Result\")\n",
    "plt.scatter(share_int.int_corr, share_int.match)\n",
    "plt.show()"
   ]
  },
  {
   "cell_type": "code",
   "execution_count": null,
   "metadata": {
    "collapsed": true
   },
   "outputs": [],
   "source": []
  },
  {
   "cell_type": "code",
   "execution_count": null,
   "metadata": {
    "collapsed": true
   },
   "outputs": [],
   "source": []
  }
 ],
 "metadata": {
  "kernelspec": {
   "display_name": "Python 3",
   "language": "python",
   "name": "python3"
  },
  "language_info": {
   "codemirror_mode": {
    "name": "ipython",
    "version": 3
   },
   "file_extension": ".py",
   "mimetype": "text/x-python",
   "name": "python",
   "nbconvert_exporter": "python",
   "pygments_lexer": "ipython3",
   "version": "3.6.3"
  }
 },
 "nbformat": 4,
 "nbformat_minor": 2
}
