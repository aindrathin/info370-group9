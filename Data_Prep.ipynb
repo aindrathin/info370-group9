{
 "cells": [
  {
   "cell_type": "markdown",
   "metadata": {},
   "source": [
    "# Date-a Science\n",
    "_Aindra Thin, Iain Bromley, Shiyue (Sybil) Wang, Yash Vig_\n",
    "\n",
    "The purpose of our research project is to explore the specific attributes and characteristics which shape people’s decisions in their selecting their romantic partners. This study fits into the broader scope of psychological research which tests predefined notions of interpersonal relationships and their realistic outcomes.\n",
    "\n",
    "We aim to answer the following questions:\n",
    "- How much does race play a factor in the selection of potential partners? \n",
    "- How important are shared interests important in terms of relationship compatibility? \n",
    "- What are factors that affect the likelihood of going on a second date?\n",
    "- Difference in male and female partner selection"
   ]
  },
  {
   "cell_type": "code",
   "execution_count": null,
   "metadata": {
    "collapsed": true
   },
   "outputs": [],
   "source": [
    "import pandas as pd\n",
    "import numpy as np\n",
    "import matplotlib.pyplot as plt\n",
    "import seaborn as sns\n",
    "import math"
   ]
  },
  {
   "cell_type": "code",
   "execution_count": null,
   "metadata": {
    "collapsed": true
   },
   "outputs": [],
   "source": [
    "all_data = pd.read_csv('data/data.csv')"
   ]
  },
  {
   "cell_type": "markdown",
   "metadata": {},
   "source": [
    "## Data Prep\n",
    "> The dataset that we acquired contained 195 columns. Much of this data does not help us answer our research questions, so we have filtered them out."
   ]
  },
  {
   "cell_type": "code",
   "execution_count": null,
   "metadata": {
    "collapsed": true
   },
   "outputs": [],
   "source": [
    "data = all_data[['iid', 'pid', 'gender', 'order', 'age', 'age_o', 'imprace', 'samerace', 'attr', 'sinc', 'intel', \\\n",
    "                 'fun', 'amb', 'shar', 'attr_o', 'sinc_o', 'intel_o', 'fun_o', 'amb_o', 'shar_o',  'int_corr', \\\n",
    "                 'dec', 'dec_o', 'match', 'attr1_1', 'sinc1_1', 'intel1_1', 'fun1_1', 'amb1_1', 'shar1_1', \\\n",
    "                 'attr2_1', 'sinc2_1', 'intel2_1', 'fun2_1', 'amb2_1', 'shar2_1']]\n",
    "                "
   ]
  },
  {
   "cell_type": "code",
   "execution_count": null,
   "metadata": {
    "collapsed": true
   },
   "outputs": [],
   "source": []
  },
  {
   "cell_type": "markdown",
   "metadata": {},
   "source": [
    "## Exploratory Data Analysis\n",
    "> The first section of your report will provide a detailed overview of the dataset. Using both written and visual approaches, this section will introduce the data to the reader in the context of the research questions. Be sure to provide in depth analyses of the distributions of key variables of interest. More than anything, this section should convey a nuanced understanding of the dataset being used."
   ]
  },
  {
   "cell_type": "code",
   "execution_count": null,
   "metadata": {},
   "outputs": [],
   "source": [
    "data_select = data[['attr_o', 'sinc_o', 'intel_o', 'fun_o', 'amb_o', 'shar_o', 'dec']]\n",
    "data_select.columns = [\"Attractiveness\", \"Sincerity\", \"Intelligence\", \"Funny\", \"Ambition\", \"Shared Interests\", \"Decision\"]\n",
    "shaped = pd.melt(data_select, id_vars=['Decision'], value_name='score')\n",
    "sns.set(style=\"whitegrid\")\n",
    "ax = sns.boxplot(x=\"variable\", y=\"score\", hue=\"Decision\",\n",
    "                data=shaped, palette=\"Set3\")\n",
    "ax.set_title('Decisions based on Attributes')\n",
    "ax.set_ylabel('Rating')\n",
    "ax.set_xlabel('Attributes')\n",
    "plt.legend(loc='upper right')\n",
    "plt.show()\n"
   ]
  },
  {
   "cell_type": "code",
   "execution_count": null,
   "metadata": {},
   "outputs": [],
   "source": [
    "from sklearn import linear_model\n",
    "from sklearn.metrics import mean_squared_error, r2_score\n",
    "def linreg(col):\n",
    "    mean_attr = data.groupby('pid')[col].mean()\n",
    "    dec_attr = data.groupby('pid')['dec'].mean()\n",
    "    lm = linear_model.LinearRegression()\n",
    "    lm = lm.fit(mean_attr.reshape(-1,1), dec_attr.reshape(-1, 1))\n",
    "    pred = lm.predict(mean_attr.reshape(-1, 1))\n",
    "    return mean_attr, dec_attr, pred, math.sqrt(lm.score(mean_attr.reshape(-1, 1), dec_attr.reshape(-1, 1)))\n",
    "\n",
    "feature_list = ['attr', 'sinc', 'intel', 'fun', 'amb', 'shar']\n",
    "fig, axes = plt.subplots(nrows=2, ncols=3, figsize=(20, 10), sharex=True, sharey=True)\n",
    "axes.flat\n",
    "for index, col in enumerate(feature_list):\n",
    "    mean_attr, dec_attr, pred, text = linreg(col)\n",
    "    sns.regplot(x=mean_attr, y=dec_attr, ax=axes.flat[index])\n",
    "    axes.flat[index].annotate(\"r = {:.2f}\".format(text), xy=(.1, 0.9), xycoords=axes.flat[index].transAxes)\n",
    "    axes.flat[index].set_title('Decisions based on ' + col)\n",
    "plt.show()\n"
   ]
  },
  {
   "cell_type": "code",
   "execution_count": null,
   "metadata": {},
   "outputs": [],
   "source": [
    "by_person = data[[\"iid\", \"dec\", \"match\"]].groupby(\"iid\").aggregate(\"sum\")\n",
    "#decisions = np.array(by_person[\"dec\"], dtype=np.float)\n",
    "#matches = np.array(by_person[\"match\"], dtype=np.float)\n",
    "by_person[\"success_rate\"] = by_person[\"match\"] / by_person[\"dec\"]\n",
    "\n",
    "by_person\n",
    "for i, row in by_person.iterrows():\n",
    "    if row['dec'] == 0.0:\n",
    "        row['success_rate'] = 0\n",
    "by_person\n",
    "\n",
    "\n",
    "\n",
    "\n",
    "#plt.hist(success_rate)\n",
    "#plt.title(\"Success Rate\")\n",
    "#plt.xlabel(\"\")\n",
    "#success_rate"
   ]
  },
  {
   "cell_type": "code",
   "execution_count": null,
   "metadata": {
    "collapsed": true
   },
   "outputs": [],
   "source": []
  }
 ],
 "metadata": {
  "kernelspec": {
   "display_name": "Python 3",
   "language": "python",
   "name": "python3"
  },
  "language_info": {
   "codemirror_mode": {
    "name": "ipython",
    "version": 3
   },
   "file_extension": ".py",
   "mimetype": "text/x-python",
   "name": "python",
   "nbconvert_exporter": "python",
   "pygments_lexer": "ipython3",
   "version": "3.6.3"
  }
 },
 "nbformat": 4,
 "nbformat_minor": 2
}
